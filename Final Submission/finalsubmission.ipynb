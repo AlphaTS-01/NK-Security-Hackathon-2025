{
 "cells": [
  {
   "cell_type": "code",
   "execution_count": 1,
   "metadata": {
    "execution": {
     "iopub.execute_input": "2025-06-12T22:08:27.216541Z",
     "iopub.status.busy": "2025-06-12T22:08:27.216262Z",
     "iopub.status.idle": "2025-06-12T22:11:42.923164Z",
     "shell.execute_reply": "2025-06-12T22:11:42.922152Z",
     "shell.execute_reply.started": "2025-06-12T22:08:27.216520Z"
    },
    "trusted": true
   },
   "outputs": [
    {
     "name": "stdout",
     "output_type": "stream",
     "text": [
      "[IterativeImputer] Completing matrix with shape (12065, 53)\n",
      "[IterativeImputer] Ending imputation round 1/10, elapsed time 3.20\n",
      "[IterativeImputer] Change: 2.6241525792450386, scaled tolerance: 0.0250595 \n",
      "[IterativeImputer] Ending imputation round 2/10, elapsed time 6.35\n",
      "[IterativeImputer] Change: 0.2773838927186836, scaled tolerance: 0.0250595 \n",
      "[IterativeImputer] Ending imputation round 3/10, elapsed time 9.65\n",
      "[IterativeImputer] Change: 0.07127699148189859, scaled tolerance: 0.0250595 \n",
      "[IterativeImputer] Ending imputation round 4/10, elapsed time 13.28\n",
      "[IterativeImputer] Change: 0.050546642222487115, scaled tolerance: 0.0250595 \n",
      "[IterativeImputer] Ending imputation round 5/10, elapsed time 16.85\n",
      "[IterativeImputer] Change: 0.03930517906744288, scaled tolerance: 0.0250595 \n",
      "[IterativeImputer] Ending imputation round 6/10, elapsed time 20.35\n",
      "[IterativeImputer] Change: 0.04210473250292551, scaled tolerance: 0.0250595 \n",
      "[IterativeImputer] Ending imputation round 7/10, elapsed time 23.85\n",
      "[IterativeImputer] Change: 0.04382778317928704, scaled tolerance: 0.0250595 \n",
      "[IterativeImputer] Ending imputation round 8/10, elapsed time 27.50\n",
      "[IterativeImputer] Change: 0.07231534164928025, scaled tolerance: 0.0250595 \n",
      "[IterativeImputer] Ending imputation round 9/10, elapsed time 31.14\n",
      "[IterativeImputer] Change: 0.0504007801201003, scaled tolerance: 0.0250595 \n",
      "[IterativeImputer] Ending imputation round 10/10, elapsed time 34.66\n",
      "[IterativeImputer] Change: 0.04245604378991283, scaled tolerance: 0.0250595 \n",
      "[IterativeImputer] Completing matrix with shape (12065, 53)\n"
     ]
    },
    {
     "name": "stderr",
     "output_type": "stream",
     "text": [
      "c:\\Users\\Tejas\\AppData\\Local\\Programs\\Python\\Python312\\Lib\\site-packages\\sklearn\\impute\\_iterative.py:825: ConvergenceWarning: [IterativeImputer] Early stopping criterion not reached.\n",
      "  warnings.warn(\n"
     ]
    },
    {
     "name": "stdout",
     "output_type": "stream",
     "text": [
      "[IterativeImputer] Ending imputation round 1/20, elapsed time 3.57\n",
      "[IterativeImputer] Change: 2.608114276544552, scaled tolerance: 0.0250595 \n",
      "[IterativeImputer] Ending imputation round 2/20, elapsed time 7.08\n",
      "[IterativeImputer] Change: 0.21279346667249807, scaled tolerance: 0.0250595 \n",
      "[IterativeImputer] Ending imputation round 3/20, elapsed time 10.72\n",
      "[IterativeImputer] Change: 0.11763606313884126, scaled tolerance: 0.0250595 \n",
      "[IterativeImputer] Ending imputation round 4/20, elapsed time 16.58\n",
      "[IterativeImputer] Change: 0.06661551083231876, scaled tolerance: 0.0250595 \n",
      "[IterativeImputer] Ending imputation round 5/20, elapsed time 22.30\n",
      "[IterativeImputer] Change: 0.04717057913317119, scaled tolerance: 0.0250595 \n",
      "[IterativeImputer] Ending imputation round 6/20, elapsed time 27.85\n",
      "[IterativeImputer] Change: 0.0492572886201843, scaled tolerance: 0.0250595 \n",
      "[IterativeImputer] Ending imputation round 7/20, elapsed time 33.71\n",
      "[IterativeImputer] Change: 0.044442522777590754, scaled tolerance: 0.0250595 \n",
      "[IterativeImputer] Ending imputation round 8/20, elapsed time 39.34\n",
      "[IterativeImputer] Change: 0.038781506358281786, scaled tolerance: 0.0250595 \n",
      "[IterativeImputer] Ending imputation round 9/20, elapsed time 43.23\n",
      "[IterativeImputer] Change: 0.04132574297621927, scaled tolerance: 0.0250595 \n",
      "[IterativeImputer] Ending imputation round 10/20, elapsed time 47.00\n",
      "[IterativeImputer] Change: 0.04331072333153285, scaled tolerance: 0.0250595 \n",
      "[IterativeImputer] Ending imputation round 11/20, elapsed time 50.85\n",
      "[IterativeImputer] Change: 0.06298497894568869, scaled tolerance: 0.0250595 \n",
      "[IterativeImputer] Ending imputation round 12/20, elapsed time 54.40\n",
      "[IterativeImputer] Change: 0.047533927722743174, scaled tolerance: 0.0250595 \n",
      "[IterativeImputer] Ending imputation round 13/20, elapsed time 58.03\n",
      "[IterativeImputer] Change: 0.06400471488742929, scaled tolerance: 0.0250595 \n",
      "[IterativeImputer] Ending imputation round 14/20, elapsed time 61.67\n",
      "[IterativeImputer] Change: 0.07345307646362337, scaled tolerance: 0.0250595 \n",
      "[IterativeImputer] Ending imputation round 15/20, elapsed time 65.45\n",
      "[IterativeImputer] Change: 0.04714338662912412, scaled tolerance: 0.0250595 \n",
      "[IterativeImputer] Ending imputation round 16/20, elapsed time 69.80\n",
      "[IterativeImputer] Change: 0.05902173069237179, scaled tolerance: 0.0250595 \n",
      "[IterativeImputer] Ending imputation round 17/20, elapsed time 76.17\n",
      "[IterativeImputer] Change: 0.05066770846532892, scaled tolerance: 0.0250595 \n",
      "[IterativeImputer] Ending imputation round 18/20, elapsed time 81.89\n",
      "[IterativeImputer] Change: 0.04891374156016892, scaled tolerance: 0.0250595 \n",
      "[IterativeImputer] Ending imputation round 19/20, elapsed time 88.17\n",
      "[IterativeImputer] Change: 0.044564510454252027, scaled tolerance: 0.0250595 \n",
      "[IterativeImputer] Ending imputation round 20/20, elapsed time 93.67\n",
      "[IterativeImputer] Change: 0.04520514748302257, scaled tolerance: 0.0250595 \n"
     ]
    },
    {
     "name": "stderr",
     "output_type": "stream",
     "text": [
      "c:\\Users\\Tejas\\AppData\\Local\\Programs\\Python\\Python312\\Lib\\site-packages\\sklearn\\impute\\_iterative.py:825: ConvergenceWarning: [IterativeImputer] Early stopping criterion not reached.\n",
      "  warnings.warn(\n"
     ]
    },
    {
     "name": "stdout",
     "output_type": "stream",
     "text": [
      "Imputation completed → 'submission.csv'\n"
     ]
    }
   ],
   "source": [
    "import pandas as pd\n",
    "import numpy as np\n",
    "from sklearn.experimental import enable_iterative_imputer\n",
    "from sklearn.impute import IterativeImputer\n",
    "from sklearn.ensemble import ExtraTreesRegressor\n",
    "\n",
    "def setup_imputer(n_estimators=5, max_depth=10, max_iter=50, tolerance=1e-6, random_state=42):\n",
    "    \"\"\"Configure the iterative imputer with ensemble estimator.\"\"\"\n",
    "    base_model = ExtraTreesRegressor(\n",
    "        n_estimators=n_estimators,\n",
    "        max_depth=max_depth,\n",
    "        random_state=random_state,\n",
    "        n_jobs=-1\n",
    "    )\n",
    "    \n",
    "    return IterativeImputer(\n",
    "        estimator=base_model,\n",
    "        max_iter=max_iter,\n",
    "        tol=tolerance,\n",
    "        initial_strategy=\"median\",\n",
    "        sample_posterior=False,\n",
    "        random_state=random_state,\n",
    "        verbose=2\n",
    "    )\n",
    "\n",
    "def load_and_prepare_data(file_path):\n",
    "    \"\"\"Load data and extract relevant features.\"\"\"\n",
    "    data = pd.read_parquet(file_path)\n",
    "    X = data.iloc[:, :54].copy()\n",
    "    timestamps = X.pop('timestamp')\n",
    "    return X, timestamps\n",
    "\n",
    "def perform_imputation(data, imputer):\n",
    "    \"\"\"Apply iterative imputation to the dataset.\"\"\"\n",
    "    imputed_array = imputer.fit_transform(data.values)\n",
    "    return pd.DataFrame(imputed_array, columns=data.columns)\n",
    "\n",
    "def save_results(imputed_df, timestamps, output_path=\"imputed_data.csv\"):\n",
    "    \"\"\"Combine results with timestamps and save to file.\"\"\"\n",
    "    final_data = imputed_df.copy()\n",
    "    final_data.insert(0, \"timestamp\", timestamps)\n",
    "    \n",
    "    \n",
    "    final_data.drop('underlying', axis=1, inplace=True)\n",
    "    \n",
    "    final_data.to_csv(output_path, index=False)\n",
    "    print(f\"Imputation completed → '{output_path}'\")\n",
    "    return final_data\n",
    "\n",
    "\n",
    "# Configuration\n",
    "INPUT_FILE = 'test_data.parquet'\n",
    "OUTPUT_FILE = \"submission.csv\"\n",
    "\n",
    "# Load and prepare data\n",
    "X, timestamps = load_and_prepare_data(INPUT_FILE)\n",
    "\n",
    "# Setup imputer's\n",
    "imputerA = setup_imputer(\n",
    "    n_estimators=7,\n",
    "    max_depth=10,\n",
    "    max_iter=10,\n",
    "    tolerance=1e-6,\n",
    "    random_state=42\n",
    ")\n",
    "\n",
    "imputerB = setup_imputer(\n",
    "    n_estimators=5,\n",
    "    max_depth=10,\n",
    "    max_iter=20,\n",
    "    tolerance=1e-6,\n",
    "    random_state=42\n",
    ")\n",
    "\n",
    "# Perform imputation\n",
    "imputed_X_A = perform_imputation(X, imputerA)\n",
    "imputed_X_B = perform_imputation(X, imputerB)\n",
    "\n",
    "# Combine results from both imputers\n",
    "imputed_X = 0.6*imputed_X_A + 0.4*imputed_X_B\n",
    "\n",
    "# Save final results\n",
    "result = save_results(imputed_X, timestamps, OUTPUT_FILE)"
   ]
  },
  {
   "cell_type": "code",
   "execution_count": null,
   "metadata": {},
   "outputs": [],
   "source": []
  }
 ],
 "metadata": {
  "kaggle": {
   "accelerator": "gpu",
   "dataSources": [
    {
     "datasetId": 7612604,
     "sourceId": 12098154,
     "sourceType": "datasetVersion"
    }
   ],
   "dockerImageVersionId": 31041,
   "isGpuEnabled": true,
   "isInternetEnabled": true,
   "language": "python",
   "sourceType": "notebook"
  },
  "kernelspec": {
   "display_name": "Python 3",
   "language": "python",
   "name": "python3"
  },
  "language_info": {
   "codemirror_mode": {
    "name": "ipython",
    "version": 3
   },
   "file_extension": ".py",
   "mimetype": "text/x-python",
   "name": "python",
   "nbconvert_exporter": "python",
   "pygments_lexer": "ipython3",
   "version": "3.12.0"
  }
 },
 "nbformat": 4,
 "nbformat_minor": 4
}
